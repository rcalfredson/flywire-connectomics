{
 "cells": [
  {
   "cell_type": "code",
   "execution_count": null,
   "id": "08147ab9",
   "metadata": {},
   "outputs": [],
   "source": [
    "# Imports\n",
    "import pandas as pd\n",
    "import numpy as np\n",
    "import matplotlib.pyplot as plt\n",
    "from matplotlib.patches import Polygon"
   ]
  },
  {
   "cell_type": "code",
   "execution_count": 2,
   "id": "160affb9",
   "metadata": {},
   "outputs": [],
   "source": [
    "# Define file paths\n",
    "CELL_TYPES_FILE = \"data/consolidated_cell_types.csv.gz\"\n",
    "CONNECTIONS_FILE = \"data/connections_princeton_no_threshold.csv.gz\""
   ]
  },
  {
   "cell_type": "code",
   "execution_count": 3,
   "id": "792dd564",
   "metadata": {},
   "outputs": [
    {
     "name": "stdout",
     "output_type": "stream",
     "text": [
      "Cell types shape: (137677, 3)\n"
     ]
    },
    {
     "data": {
      "application/vnd.microsoft.datawrangler.viewer.v0+json": {
       "columns": [
        {
         "name": "index",
         "rawType": "int64",
         "type": "integer"
        },
        {
         "name": "root_id",
         "rawType": "int64",
         "type": "integer"
        },
        {
         "name": "primary_type",
         "rawType": "object",
         "type": "string"
        },
        {
         "name": "additional_type(s)",
         "rawType": "object",
         "type": "unknown"
        }
       ],
       "ref": "3cd132b5-5f37-4fa3-be6c-513736c16c5a",
       "rows": [
        [
         "0",
         "720575940596125868",
         "T5c",
         null
        ],
        [
         "1",
         "720575940597856265",
         "Tm16",
         null
        ],
        [
         "2",
         "720575940597944841",
         "Tm7",
         "CB3851"
        ],
        [
         "3",
         "720575940598267657",
         "TmY15",
         null
        ],
        [
         "4",
         "720575940599333574",
         "Tm1",
         null
        ]
       ],
       "shape": {
        "columns": 3,
        "rows": 5
       }
      },
      "text/html": [
       "<div>\n",
       "<style scoped>\n",
       "    .dataframe tbody tr th:only-of-type {\n",
       "        vertical-align: middle;\n",
       "    }\n",
       "\n",
       "    .dataframe tbody tr th {\n",
       "        vertical-align: top;\n",
       "    }\n",
       "\n",
       "    .dataframe thead th {\n",
       "        text-align: right;\n",
       "    }\n",
       "</style>\n",
       "<table border=\"1\" class=\"dataframe\">\n",
       "  <thead>\n",
       "    <tr style=\"text-align: right;\">\n",
       "      <th></th>\n",
       "      <th>root_id</th>\n",
       "      <th>primary_type</th>\n",
       "      <th>additional_type(s)</th>\n",
       "    </tr>\n",
       "  </thead>\n",
       "  <tbody>\n",
       "    <tr>\n",
       "      <th>0</th>\n",
       "      <td>720575940596125868</td>\n",
       "      <td>T5c</td>\n",
       "      <td>NaN</td>\n",
       "    </tr>\n",
       "    <tr>\n",
       "      <th>1</th>\n",
       "      <td>720575940597856265</td>\n",
       "      <td>Tm16</td>\n",
       "      <td>NaN</td>\n",
       "    </tr>\n",
       "    <tr>\n",
       "      <th>2</th>\n",
       "      <td>720575940597944841</td>\n",
       "      <td>Tm7</td>\n",
       "      <td>CB3851</td>\n",
       "    </tr>\n",
       "    <tr>\n",
       "      <th>3</th>\n",
       "      <td>720575940598267657</td>\n",
       "      <td>TmY15</td>\n",
       "      <td>NaN</td>\n",
       "    </tr>\n",
       "    <tr>\n",
       "      <th>4</th>\n",
       "      <td>720575940599333574</td>\n",
       "      <td>Tm1</td>\n",
       "      <td>NaN</td>\n",
       "    </tr>\n",
       "  </tbody>\n",
       "</table>\n",
       "</div>"
      ],
      "text/plain": [
       "              root_id primary_type additional_type(s)\n",
       "0  720575940596125868          T5c                NaN\n",
       "1  720575940597856265         Tm16                NaN\n",
       "2  720575940597944841          Tm7             CB3851\n",
       "3  720575940598267657        TmY15                NaN\n",
       "4  720575940599333574          Tm1                NaN"
      ]
     },
     "execution_count": 3,
     "metadata": {},
     "output_type": "execute_result"
    }
   ],
   "source": [
    "# Load cell types\n",
    "cell_types = pd.read_csv(CELL_TYPES_FILE)\n",
    "\n",
    "print(\"Cell types shape:\", cell_types.shape)\n",
    "cell_types.head()"
   ]
  },
  {
   "cell_type": "code",
   "execution_count": 4,
   "id": "c4735544",
   "metadata": {},
   "outputs": [
    {
     "name": "stdout",
     "output_type": "stream",
     "text": [
      "Connections shape: (22285323, 5)\n"
     ]
    },
    {
     "data": {
      "application/vnd.microsoft.datawrangler.viewer.v0+json": {
       "columns": [
        {
         "name": "index",
         "rawType": "int64",
         "type": "integer"
        },
        {
         "name": "pre_root_id",
         "rawType": "int64",
         "type": "integer"
        },
        {
         "name": "post_root_id",
         "rawType": "int64",
         "type": "integer"
        },
        {
         "name": "neuropil",
         "rawType": "object",
         "type": "string"
        },
        {
         "name": "syn_count",
         "rawType": "int64",
         "type": "integer"
        },
        {
         "name": "nt_type",
         "rawType": "object",
         "type": "string"
        }
       ],
       "ref": "1d729249-02a7-43c0-917c-2f604f813923",
       "rows": [
        [
         "0",
         "720575940625363947",
         "720575940623224444",
         "ME_L",
         "12",
         "GABA"
        ],
        [
         "1",
         "720575940613354467",
         "720575940616690107",
         "ME_L",
         "1",
         "ACH"
        ],
        [
         "2",
         "720575940630432382",
         "720575940618518557",
         "ME_L",
         "67",
         "ACH"
        ],
        [
         "3",
         "720575940627314521",
         "720575940626337738",
         "ME_L",
         "10",
         "GABA"
        ],
        [
         "4",
         "720575940616775218",
         "720575940632128018",
         "ME_L",
         "1",
         "ACH"
        ]
       ],
       "shape": {
        "columns": 5,
        "rows": 5
       }
      },
      "text/html": [
       "<div>\n",
       "<style scoped>\n",
       "    .dataframe tbody tr th:only-of-type {\n",
       "        vertical-align: middle;\n",
       "    }\n",
       "\n",
       "    .dataframe tbody tr th {\n",
       "        vertical-align: top;\n",
       "    }\n",
       "\n",
       "    .dataframe thead th {\n",
       "        text-align: right;\n",
       "    }\n",
       "</style>\n",
       "<table border=\"1\" class=\"dataframe\">\n",
       "  <thead>\n",
       "    <tr style=\"text-align: right;\">\n",
       "      <th></th>\n",
       "      <th>pre_root_id</th>\n",
       "      <th>post_root_id</th>\n",
       "      <th>neuropil</th>\n",
       "      <th>syn_count</th>\n",
       "      <th>nt_type</th>\n",
       "    </tr>\n",
       "  </thead>\n",
       "  <tbody>\n",
       "    <tr>\n",
       "      <th>0</th>\n",
       "      <td>720575940625363947</td>\n",
       "      <td>720575940623224444</td>\n",
       "      <td>ME_L</td>\n",
       "      <td>12</td>\n",
       "      <td>GABA</td>\n",
       "    </tr>\n",
       "    <tr>\n",
       "      <th>1</th>\n",
       "      <td>720575940613354467</td>\n",
       "      <td>720575940616690107</td>\n",
       "      <td>ME_L</td>\n",
       "      <td>1</td>\n",
       "      <td>ACH</td>\n",
       "    </tr>\n",
       "    <tr>\n",
       "      <th>2</th>\n",
       "      <td>720575940630432382</td>\n",
       "      <td>720575940618518557</td>\n",
       "      <td>ME_L</td>\n",
       "      <td>67</td>\n",
       "      <td>ACH</td>\n",
       "    </tr>\n",
       "    <tr>\n",
       "      <th>3</th>\n",
       "      <td>720575940627314521</td>\n",
       "      <td>720575940626337738</td>\n",
       "      <td>ME_L</td>\n",
       "      <td>10</td>\n",
       "      <td>GABA</td>\n",
       "    </tr>\n",
       "    <tr>\n",
       "      <th>4</th>\n",
       "      <td>720575940616775218</td>\n",
       "      <td>720575940632128018</td>\n",
       "      <td>ME_L</td>\n",
       "      <td>1</td>\n",
       "      <td>ACH</td>\n",
       "    </tr>\n",
       "  </tbody>\n",
       "</table>\n",
       "</div>"
      ],
      "text/plain": [
       "          pre_root_id        post_root_id neuropil  syn_count nt_type\n",
       "0  720575940625363947  720575940623224444     ME_L         12    GABA\n",
       "1  720575940613354467  720575940616690107     ME_L          1     ACH\n",
       "2  720575940630432382  720575940618518557     ME_L         67     ACH\n",
       "3  720575940627314521  720575940626337738     ME_L         10    GABA\n",
       "4  720575940616775218  720575940632128018     ME_L          1     ACH"
      ]
     },
     "execution_count": 4,
     "metadata": {},
     "output_type": "execute_result"
    }
   ],
   "source": [
    "# Load connections (note: large file!)\n",
    "# Using low_memory=False to avoid dtype warnings\n",
    "connections = pd.read_csv(CONNECTIONS_FILE, low_memory=False)\n",
    "\n",
    "print(\"Connections shape:\", connections.shape)\n",
    "connections.head()"
   ]
  },
  {
   "cell_type": "code",
   "execution_count": 5,
   "id": "61deacfa",
   "metadata": {},
   "outputs": [],
   "source": [
    "# Helpers\n",
    "def partner_weights_bidirectional(\n",
    "    connections: pd.DataFrame, target_id: int\n",
    ") -> pd.DataFrame:\n",
    "    \"\"\"\n",
    "    For a target neuron, return partner-wise inbound and outbound synapse weights.\n",
    "    Aggregates across neuropils (sums syn_count).\n",
    "\n",
    "    Returns columns:\n",
    "      partner_id, in_w (partner→target), out_w (target→partner)\n",
    "    \"\"\"\n",
    "    # inputs to target (pre → target)\n",
    "    inp = (\n",
    "        connections.loc[\n",
    "            connections[\"post_root_id\"] == target_id, [\"pre_root_id\", \"syn_count\"]\n",
    "        ]\n",
    "        .groupby(\"pre_root_id\", as_index=False)[\"syn_count\"]\n",
    "        .sum()\n",
    "        .rename(columns={\"pre_root_id\": \"partner_id\", \"syn_count\": \"in_w\"})\n",
    "    )\n",
    "\n",
    "    # outputs from target (target → post)\n",
    "    out = (\n",
    "        connections.loc[\n",
    "            connections[\"pre_root_id\"] == target_id, [\"post_root_id\", \"syn_count\"]\n",
    "        ]\n",
    "        .groupby(\"post_root_id\", as_index=False)[\"syn_count\"]\n",
    "        .sum()\n",
    "        .rename(columns={\"post_root_id\": \"partner_id\", \"syn_count\": \"out_w\"})\n",
    "    )\n",
    "\n",
    "    # outer-join so partners with only in_w or only out_w are included (zeros allowed)\n",
    "    df = pd.merge(inp, out, on=\"partner_id\", how=\"outer\").fillna(\n",
    "        {\"in_w\": 0, \"out_w\": 0}\n",
    "    )\n",
    "\n",
    "    return df\n",
    "\n",
    "\n",
    "def attach_partner_types(df: pd.DataFrame, cell_types: pd.DataFrame) -> pd.DataFrame:\n",
    "    \"\"\"\n",
    "    Add partner primary_type (if available)\n",
    "    \"\"\"\n",
    "    return (\n",
    "        df.merge(\n",
    "            cell_types[[\"root_id\", \"primary_type\"]],\n",
    "            left_on=\"partner_id\",\n",
    "            right_on=\"root_id\",\n",
    "            how=\"left\",\n",
    "        )\n",
    "        .drop(columns=[\"root_id\"])\n",
    "        .rename(columns={\"primary_type\": \"partner_type\"})\n",
    "    )"
   ]
  },
  {
   "cell_type": "code",
   "execution_count": null,
   "id": "ad69caf1",
   "metadata": {},
   "outputs": [],
   "source": [
    "# Wedge math and plotting\n",
    "import itertools\n",
    "from matplotlib.cm import tab10\n",
    "\n",
    "def reciprocity_mask(df: pd.DataFrame, wmin: int=50, angle_deg: float = 20.0) -> np.ndarray:\n",
    "    \"\"\"\n",
    "    Return boolean mask for points inside a 'wedge' centered on the diagonal (45°)\n",
    "      - in_w >= wmin and out_w > wmin\n",
    "      - |atan2(in_w, out_w| <= angle_deg\n",
    "    \"\"\"\n",
    "    x = df['out_w'].to_numpy(dtype=float)\n",
    "    y = df['in_w'].to_numpy(dtype=float)\n",
    "\n",
    "    # avoid division issues: if both zero they'll be excluded by wmin anyway\n",
    "    ang = np.degrees(np.arctan2(y, x)) # 0..90 for positive quadrant\n",
    "    return (x >= wmin) & (y >= wmin) & (np.abs(ang - 45.0) <= angle_deg)\n",
    "\n",
    "def plot_reciprocity(\n",
    "    df: pd.DataFrame,\n",
    "    target_label: str,\n",
    "    wmin: int = 50,\n",
    "    angle_deg: float = 20.0,\n",
    "    annotate_top: int = 12,\n",
    "    label_col: str = \"partner_type\",\n",
    "):\n",
    "    \"\"\"\n",
    "    Scatter of in_w vs out_w with a shaded wedge around the diagonal.\n",
    "    - wmin: minimum weight on both axes to be considered 'strong'\n",
    "    - angle_deg: half-angle of the wedge around 45°\n",
    "    - annotate_top: annotate top-N most reciprocal (by geometric mean) inside the wedge\n",
    "    \"\"\"\n",
    "    x = df[\"out_w\"].to_numpy()\n",
    "    y = df[\"in_w\"].to_numpy()\n",
    "\n",
    "    fig, ax = plt.subplots(figsize=(8,6))\n",
    "\n",
    "    # base scatter (light points)\n",
    "    ax.scatter(x, y, s=8, alpha=0.25)\n",
    "\n",
    "    # diagonal\n",
    "    lim = max(x.max(), y.max()) * 1.05 if len(df) else 1\n",
    "    ax.plot([0, lim], [0, lim], ls=\"--\")\n",
    "\n",
    "    # wedge polygon (in data coords)\n",
    "    # Build wedge from two rays at 45°±angle_deg starting at (wmin, wmin)\n",
    "    a1 = np.radians(45 - angle_deg)\n",
    "    a2 = np.radians(45 + angle_deg)\n",
    "    r = lim * 1.5\n",
    "    p0 = (wmin, wmin)\n",
    "    p1 = (wmin + r*np.cos(a1), wmin + r*np.sin(a1))\n",
    "    p2 = (wmin + r*np.cos(a2), wmin + r*np.sin(a2))\n",
    "    wedge = Polygon([p0, p1, p2], closed=True, facecolor=\"orange\", alpha=0.15, edgecolor=\"none\")\n",
    "    ax.add_patch(wedge)\n",
    "\n",
    "    # emphasize points inside wedge\n",
    "    inside = reciprocity_mask(df, wmin=wmin, angle_deg=angle_deg)\n",
    "    ax.scatter(x[inside], y[inside], s=16, alpha=0.8)\n",
    "\n",
    "    if annotate_top and inside.any():\n",
    "        gm = np.sqrt(x * y)\n",
    "        idx = np.argsort(gm * inside)[-annotate_top:]\n",
    "        colors = itertools.cycle(tab10.colors)\n",
    "\n",
    "        for i, color in zip(idx, colors):\n",
    "            label = str(df.iloc[i][label_col])\n",
    "            ax.scatter(x[i], y[i], s=35, color=color, label=label, zorder=3)\n",
    "            ax.annotate(\n",
    "                label, (x[i], y[i]),\n",
    "                xytext=(6, 6), textcoords=\"offset points\",\n",
    "                fontsize=8, color=color\n",
    "            )\n",
    "\n",
    "        ax.legend(fontsize=8, loc=\"upper left\", bbox_to_anchor=(1.02, 1))\n",
    "\n",
    "    ax.set_xlim(0, lim); ax.set_ylim(0, lim)\n",
    "    ax.set_xlabel(f\"synaptic weight from {target_label}\")\n",
    "    ax.set_ylabel(f\"synaptic weight to {target_label}\")\n",
    "    ax.set_title(f\"Reciprocity around {target_label}\\n(wedge: ≥{wmin} & ±{angle_deg}° of diagonal)\")\n",
    "    plt.tight_layout()\n",
    "    plt.show()"
   ]
  },
  {
   "cell_type": "code",
   "execution_count": null,
   "id": "ba9f9029",
   "metadata": {},
   "outputs": [
    {
     "data": {
      "image/png": "[encoded data removed]",
      "text/plain": [
       "<Figure size 800x600 with 1 Axes>"
      ]
     },
     "metadata": {},
     "output_type": "display_data"
    }
   ],
   "source": [
    "# Run analysis for a neuron of interest\n",
    "target_id = 720575940625741287  # e.g., oviIN Right\n",
    "target_label = \"oviIN Right\"\n",
    "\n",
    "df_pairs = partner_weights_bidirectional(connections, target_id)\n",
    "df_pairs = attach_partner_types(df_pairs, cell_types)\n",
    "\n",
    "# Plot; tweak wmin and angle as desired\n",
    "plot_reciprocity(df_pairs, target_label, wmin=1, angle_deg=20, annotate_top=12)"
   ]
  }
 ],
 "metadata": {
  "kernelspec": {
   "display_name": "analysis3.13",
   "language": "python",
   "name": "python3"
  },
  "language_info": {
   "codemirror_mode": {
    "name": "ipython",
    "version": 3
   },
   "file_extension": ".py",
   "mimetype": "text/x-python",
   "name": "python",
   "nbconvert_exporter": "python",
   "pygments_lexer": "ipython3",
   "version": "3.13.7"
  }
 },
 "nbformat": 4,
 "nbformat_minor": 5
}
