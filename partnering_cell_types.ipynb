{
 "cells": [
  {
   "cell_type": "code",
   "execution_count": 1,
   "id": "4e7e9149",
   "metadata": {},
   "outputs": [],
   "source": [
    "# Imports\n",
    "import pandas as pd\n",
    "\n",
    "pd.set_option(\"display.max_columns\", 20)\n",
    "pd.set_option(\"display.max_rows\", 10)"
   ]
  },
  {
   "cell_type": "code",
   "execution_count": 2,
   "id": "beeba776",
   "metadata": {},
   "outputs": [],
   "source": [
    "# Define file paths\n",
    "CELL_TYPES_FILE = \"data/consolidated_cell_types.csv.gz\"\n",
    "CONNECTIONS_FILE = \"data/connections_princeton_no_threshold.csv.gz\""
   ]
  },
  {
   "cell_type": "code",
   "execution_count": 3,
   "id": "3faed326",
   "metadata": {},
   "outputs": [
    {
     "name": "stdout",
     "output_type": "stream",
     "text": [
      "Cell types shape: (137677, 3)\n"
     ]
    },
    {
     "data": {
      "application/vnd.microsoft.datawrangler.viewer.v0+json": {
       "columns": [
        {
         "name": "index",
         "rawType": "int64",
         "type": "integer"
        },
        {
         "name": "root_id",
         "rawType": "int64",
         "type": "integer"
        },
        {
         "name": "primary_type",
         "rawType": "object",
         "type": "string"
        },
        {
         "name": "additional_type(s)",
         "rawType": "object",
         "type": "unknown"
        }
       ],
       "ref": "7f096a06-f514-44f3-9378-24da70e4feef",
       "rows": [
        [
         "0",
         "720575940596125868",
         "T5c",
         null
        ],
        [
         "1",
         "720575940597856265",
         "Tm16",
         null
        ],
        [
         "2",
         "720575940597944841",
         "Tm7",
         "CB3851"
        ],
        [
         "3",
         "720575940598267657",
         "TmY15",
         null
        ],
        [
         "4",
         "720575940599333574",
         "Tm1",
         null
        ]
       ],
       "shape": {
        "columns": 3,
        "rows": 5
       }
      },
      "text/html": [
       "<div>\n",
       "<style scoped>\n",
       "    .dataframe tbody tr th:only-of-type {\n",
       "        vertical-align: middle;\n",
       "    }\n",
       "\n",
       "    .dataframe tbody tr th {\n",
       "        vertical-align: top;\n",
       "    }\n",
       "\n",
       "    .dataframe thead th {\n",
       "        text-align: right;\n",
       "    }\n",
       "</style>\n",
       "<table border=\"1\" class=\"dataframe\">\n",
       "  <thead>\n",
       "    <tr style=\"text-align: right;\">\n",
       "      <th></th>\n",
       "      <th>root_id</th>\n",
       "      <th>primary_type</th>\n",
       "      <th>additional_type(s)</th>\n",
       "    </tr>\n",
       "  </thead>\n",
       "  <tbody>\n",
       "    <tr>\n",
       "      <th>0</th>\n",
       "      <td>720575940596125868</td>\n",
       "      <td>T5c</td>\n",
       "      <td>NaN</td>\n",
       "    </tr>\n",
       "    <tr>\n",
       "      <th>1</th>\n",
       "      <td>720575940597856265</td>\n",
       "      <td>Tm16</td>\n",
       "      <td>NaN</td>\n",
       "    </tr>\n",
       "    <tr>\n",
       "      <th>2</th>\n",
       "      <td>720575940597944841</td>\n",
       "      <td>Tm7</td>\n",
       "      <td>CB3851</td>\n",
       "    </tr>\n",
       "    <tr>\n",
       "      <th>3</th>\n",
       "      <td>720575940598267657</td>\n",
       "      <td>TmY15</td>\n",
       "      <td>NaN</td>\n",
       "    </tr>\n",
       "    <tr>\n",
       "      <th>4</th>\n",
       "      <td>720575940599333574</td>\n",
       "      <td>Tm1</td>\n",
       "      <td>NaN</td>\n",
       "    </tr>\n",
       "  </tbody>\n",
       "</table>\n",
       "</div>"
      ],
      "text/plain": [
       "              root_id primary_type additional_type(s)\n",
       "0  720575940596125868          T5c                NaN\n",
       "1  720575940597856265         Tm16                NaN\n",
       "2  720575940597944841          Tm7             CB3851\n",
       "3  720575940598267657        TmY15                NaN\n",
       "4  720575940599333574          Tm1                NaN"
      ]
     },
     "execution_count": 3,
     "metadata": {},
     "output_type": "execute_result"
    }
   ],
   "source": [
    "# Load cell types\n",
    "cell_types = pd.read_csv(CELL_TYPES_FILE)\n",
    "\n",
    "print(\"Cell types shape:\", cell_types.shape)\n",
    "cell_types.head()"
   ]
  },
  {
   "cell_type": "code",
   "execution_count": 4,
   "id": "1ee4b609",
   "metadata": {},
   "outputs": [
    {
     "name": "stdout",
     "output_type": "stream",
     "text": [
      "Connections shape: (22285323, 5)\n"
     ]
    },
    {
     "data": {
      "application/vnd.microsoft.datawrangler.viewer.v0+json": {
       "columns": [
        {
         "name": "index",
         "rawType": "int64",
         "type": "integer"
        },
        {
         "name": "pre_root_id",
         "rawType": "int64",
         "type": "integer"
        },
        {
         "name": "post_root_id",
         "rawType": "int64",
         "type": "integer"
        },
        {
         "name": "neuropil",
         "rawType": "object",
         "type": "string"
        },
        {
         "name": "syn_count",
         "rawType": "int64",
         "type": "integer"
        },
        {
         "name": "nt_type",
         "rawType": "object",
         "type": "string"
        }
       ],
       "ref": "6be9fe28-70e2-483d-af42-703f41be52f6",
       "rows": [
        [
         "0",
         "720575940625363947",
         "720575940623224444",
         "ME_L",
         "12",
         "GABA"
        ],
        [
         "1",
         "720575940613354467",
         "720575940616690107",
         "ME_L",
         "1",
         "ACH"
        ],
        [
         "2",
         "720575940630432382",
         "720575940618518557",
         "ME_L",
         "67",
         "ACH"
        ],
        [
         "3",
         "720575940627314521",
         "720575940626337738",
         "ME_L",
         "10",
         "GABA"
        ],
        [
         "4",
         "720575940616775218",
         "720575940632128018",
         "ME_L",
         "1",
         "ACH"
        ]
       ],
       "shape": {
        "columns": 5,
        "rows": 5
       }
      },
      "text/html": [
       "<div>\n",
       "<style scoped>\n",
       "    .dataframe tbody tr th:only-of-type {\n",
       "        vertical-align: middle;\n",
       "    }\n",
       "\n",
       "    .dataframe tbody tr th {\n",
       "        vertical-align: top;\n",
       "    }\n",
       "\n",
       "    .dataframe thead th {\n",
       "        text-align: right;\n",
       "    }\n",
       "</style>\n",
       "<table border=\"1\" class=\"dataframe\">\n",
       "  <thead>\n",
       "    <tr style=\"text-align: right;\">\n",
       "      <th></th>\n",
       "      <th>pre_root_id</th>\n",
       "      <th>post_root_id</th>\n",
       "      <th>neuropil</th>\n",
       "      <th>syn_count</th>\n",
       "      <th>nt_type</th>\n",
       "    </tr>\n",
       "  </thead>\n",
       "  <tbody>\n",
       "    <tr>\n",
       "      <th>0</th>\n",
       "      <td>720575940625363947</td>\n",
       "      <td>720575940623224444</td>\n",
       "      <td>ME_L</td>\n",
       "      <td>12</td>\n",
       "      <td>GABA</td>\n",
       "    </tr>\n",
       "    <tr>\n",
       "      <th>1</th>\n",
       "      <td>720575940613354467</td>\n",
       "      <td>720575940616690107</td>\n",
       "      <td>ME_L</td>\n",
       "      <td>1</td>\n",
       "      <td>ACH</td>\n",
       "    </tr>\n",
       "    <tr>\n",
       "      <th>2</th>\n",
       "      <td>720575940630432382</td>\n",
       "      <td>720575940618518557</td>\n",
       "      <td>ME_L</td>\n",
       "      <td>67</td>\n",
       "      <td>ACH</td>\n",
       "    </tr>\n",
       "    <tr>\n",
       "      <th>3</th>\n",
       "      <td>720575940627314521</td>\n",
       "      <td>720575940626337738</td>\n",
       "      <td>ME_L</td>\n",
       "      <td>10</td>\n",
       "      <td>GABA</td>\n",
       "    </tr>\n",
       "    <tr>\n",
       "      <th>4</th>\n",
       "      <td>720575940616775218</td>\n",
       "      <td>720575940632128018</td>\n",
       "      <td>ME_L</td>\n",
       "      <td>1</td>\n",
       "      <td>ACH</td>\n",
       "    </tr>\n",
       "  </tbody>\n",
       "</table>\n",
       "</div>"
      ],
      "text/plain": [
       "          pre_root_id        post_root_id neuropil  syn_count nt_type\n",
       "0  720575940625363947  720575940623224444     ME_L         12    GABA\n",
       "1  720575940613354467  720575940616690107     ME_L          1     ACH\n",
       "2  720575940630432382  720575940618518557     ME_L         67     ACH\n",
       "3  720575940627314521  720575940626337738     ME_L         10    GABA\n",
       "4  720575940616775218  720575940632128018     ME_L          1     ACH"
      ]
     },
     "execution_count": 4,
     "metadata": {},
     "output_type": "execute_result"
    }
   ],
   "source": [
    "# Load connections (note: large file!)\n",
    "# Using low_memory=False to avoid dtype warnings\n",
    "connections = pd.read_csv(CONNECTIONS_FILE, low_memory=False)\n",
    "\n",
    "print(\"Connections shape:\", connections.shape)\n",
    "connections.head()"
   ]
  },
  {
   "cell_type": "code",
   "execution_count": 5,
   "id": "abaad136",
   "metadata": {},
   "outputs": [
    {
     "name": "stdout",
     "output_type": "stream",
     "text": [
      "Unique root IDs in cell types: 137677\n",
      "Unique pre IDs in connections: 139003\n",
      "Unique post IDs in connections: 138955\n",
      "Missing pre IDs: 1572\n",
      "Missing post IDs: 1570\n"
     ]
    }
   ],
   "source": [
    "# Quick sanity checks\n",
    "print(\"Unique root IDs in cell types:\", cell_types['root_id'].nunique())\n",
    "print(\"Unique pre IDs in connections:\", connections['pre_root_id'].nunique())\n",
    "print(\"Unique post IDs in connections:\", connections['post_root_id'].nunique())\n",
    "\n",
    "# Are all root_ids in connections also present in cell_types?\n",
    "missing_pre = set(connections['pre_root_id']) - set(cell_types['root_id'])\n",
    "missing_post = set(connections['post_root_id']) - set(cell_types['root_id'])\n",
    "\n",
    "print(\"Missing pre IDs:\", len(missing_pre))\n",
    "print(\"Missing post IDs:\", len(missing_post))"
   ]
  },
  {
   "cell_type": "code",
   "execution_count": 6,
   "id": "faa06ede",
   "metadata": {},
   "outputs": [
    {
     "name": "stdout",
     "output_type": "stream",
     "text": [
      "(22285323, 7)\n"
     ]
    },
    {
     "data": {
      "application/vnd.microsoft.datawrangler.viewer.v0+json": {
       "columns": [
        {
         "name": "index",
         "rawType": "int64",
         "type": "integer"
        },
        {
         "name": "pre_root_id",
         "rawType": "int64",
         "type": "integer"
        },
        {
         "name": "post_root_id",
         "rawType": "int64",
         "type": "integer"
        },
        {
         "name": "neuropil",
         "rawType": "object",
         "type": "string"
        },
        {
         "name": "syn_count",
         "rawType": "int64",
         "type": "integer"
        },
        {
         "name": "nt_type",
         "rawType": "object",
         "type": "string"
        },
        {
         "name": "pre_type",
         "rawType": "object",
         "type": "string"
        },
        {
         "name": "post_type",
         "rawType": "object",
         "type": "string"
        }
       ],
       "ref": "2ddfe086-3efb-4328-941b-2c96b58d0c5d",
       "rows": [
        [
         "0",
         "720575940625363947",
         "720575940623224444",
         "ME_L",
         "12",
         "GABA",
         "Dm6",
         "T1"
        ],
        [
         "1",
         "720575940613354467",
         "720575940616690107",
         "ME_L",
         "1",
         "ACH",
         "L3",
         "Lawf2"
        ],
        [
         "2",
         "720575940630432382",
         "720575940618518557",
         "ME_L",
         "67",
         "ACH",
         "L2",
         "L5"
        ],
        [
         "3",
         "720575940627314521",
         "720575940626337738",
         "ME_L",
         "10",
         "GABA",
         "Tm5c",
         "Tm21"
        ],
        [
         "4",
         "720575940616775218",
         "720575940632128018",
         "ME_L",
         "1",
         "ACH",
         "T2a",
         "Dm3q"
        ]
       ],
       "shape": {
        "columns": 7,
        "rows": 5
       }
      },
      "text/html": [
       "<div>\n",
       "<style scoped>\n",
       "    .dataframe tbody tr th:only-of-type {\n",
       "        vertical-align: middle;\n",
       "    }\n",
       "\n",
       "    .dataframe tbody tr th {\n",
       "        vertical-align: top;\n",
       "    }\n",
       "\n",
       "    .dataframe thead th {\n",
       "        text-align: right;\n",
       "    }\n",
       "</style>\n",
       "<table border=\"1\" class=\"dataframe\">\n",
       "  <thead>\n",
       "    <tr style=\"text-align: right;\">\n",
       "      <th></th>\n",
       "      <th>pre_root_id</th>\n",
       "      <th>post_root_id</th>\n",
       "      <th>neuropil</th>\n",
       "      <th>syn_count</th>\n",
       "      <th>nt_type</th>\n",
       "      <th>pre_type</th>\n",
       "      <th>post_type</th>\n",
       "    </tr>\n",
       "  </thead>\n",
       "  <tbody>\n",
       "    <tr>\n",
       "      <th>0</th>\n",
       "      <td>720575940625363947</td>\n",
       "      <td>720575940623224444</td>\n",
       "      <td>ME_L</td>\n",
       "      <td>12</td>\n",
       "      <td>GABA</td>\n",
       "      <td>Dm6</td>\n",
       "      <td>T1</td>\n",
       "    </tr>\n",
       "    <tr>\n",
       "      <th>1</th>\n",
       "      <td>720575940613354467</td>\n",
       "      <td>720575940616690107</td>\n",
       "      <td>ME_L</td>\n",
       "      <td>1</td>\n",
       "      <td>ACH</td>\n",
       "      <td>L3</td>\n",
       "      <td>Lawf2</td>\n",
       "    </tr>\n",
       "    <tr>\n",
       "      <th>2</th>\n",
       "      <td>720575940630432382</td>\n",
       "      <td>720575940618518557</td>\n",
       "      <td>ME_L</td>\n",
       "      <td>67</td>\n",
       "      <td>ACH</td>\n",
       "      <td>L2</td>\n",
       "      <td>L5</td>\n",
       "    </tr>\n",
       "    <tr>\n",
       "      <th>3</th>\n",
       "      <td>720575940627314521</td>\n",
       "      <td>720575940626337738</td>\n",
       "      <td>ME_L</td>\n",
       "      <td>10</td>\n",
       "      <td>GABA</td>\n",
       "      <td>Tm5c</td>\n",
       "      <td>Tm21</td>\n",
       "    </tr>\n",
       "    <tr>\n",
       "      <th>4</th>\n",
       "      <td>720575940616775218</td>\n",
       "      <td>720575940632128018</td>\n",
       "      <td>ME_L</td>\n",
       "      <td>1</td>\n",
       "      <td>ACH</td>\n",
       "      <td>T2a</td>\n",
       "      <td>Dm3q</td>\n",
       "    </tr>\n",
       "  </tbody>\n",
       "</table>\n",
       "</div>"
      ],
      "text/plain": [
       "          pre_root_id        post_root_id neuropil  syn_count nt_type  \\\n",
       "0  720575940625363947  720575940623224444     ME_L         12    GABA   \n",
       "1  720575940613354467  720575940616690107     ME_L          1     ACH   \n",
       "2  720575940630432382  720575940618518557     ME_L         67     ACH   \n",
       "3  720575940627314521  720575940626337738     ME_L         10    GABA   \n",
       "4  720575940616775218  720575940632128018     ME_L          1     ACH   \n",
       "\n",
       "  pre_type post_type  \n",
       "0      Dm6        T1  \n",
       "1       L3     Lawf2  \n",
       "2       L2        L5  \n",
       "3     Tm5c      Tm21  \n",
       "4      T2a      Dm3q  "
      ]
     },
     "execution_count": 6,
     "metadata": {},
     "output_type": "execute_result"
    }
   ],
   "source": [
    "# Merge connections with cell types (for pre and post separately)\n",
    "connections_with_types = (\n",
    "    connections\n",
    "    .merge(cell_types[['root_id', 'primary_type']], \n",
    "           left_on='pre_root_id', right_on='root_id', how='left')\n",
    "    .rename(columns={'primary_type': 'pre_type'})\n",
    "    .drop(columns=['root_id'])\n",
    "    .merge(cell_types[['root_id', 'primary_type']], \n",
    "           left_on='post_root_id', right_on='root_id', how='left')\n",
    "    .rename(columns={'primary_type': 'post_type'})\n",
    "    .drop(columns=['root_id'])\n",
    ")\n",
    "\n",
    "print(connections_with_types.shape)\n",
    "connections_with_types.head()\n"
   ]
  },
  {
   "cell_type": "code",
   "execution_count": 7,
   "id": "2549a761",
   "metadata": {},
   "outputs": [
    {
     "name": "stdout",
     "output_type": "stream",
     "text": [
      "Connections missing pre_type: 214817\n",
      "Connections missing post_type: 190836\n"
     ]
    }
   ],
   "source": [
    "# Check how many connections have missing type annotations\n",
    "missing_pre_types = connections_with_types['pre_type'].isna().sum()\n",
    "missing_post_types = connections_with_types['post_type'].isna().sum()\n",
    "\n",
    "print(\"Connections missing pre_type:\", missing_pre_types)\n",
    "print(\"Connections missing post_type:\", missing_post_types)"
   ]
  },
  {
   "cell_type": "code",
   "execution_count": 8,
   "id": "9407ec1e",
   "metadata": {},
   "outputs": [
    {
     "name": "stdout",
     "output_type": "stream",
     "text": [
      "Connections before cleaning: 22285323\n",
      "Connections after cleaning: 21890045\n"
     ]
    }
   ],
   "source": [
    "# Drop connections where either side is missing type\n",
    "connections_clean = connections_with_types.dropna(subset=['pre_type', 'post_type'])\n",
    "\n",
    "print(\"Connections before cleaning:\", len(connections_with_types))\n",
    "print(\"Connections after cleaning:\", len(connections_clean))"
   ]
  },
  {
   "cell_type": "code",
   "execution_count": 9,
   "id": "c8826c5a",
   "metadata": {},
   "outputs": [
    {
     "name": "stdout",
     "output_type": "stream",
     "text": [
      "Long-format rows: 43780090\n"
     ]
    },
    {
     "data": {
      "application/vnd.microsoft.datawrangler.viewer.v0+json": {
       "columns": [
        {
         "name": "index",
         "rawType": "int64",
         "type": "integer"
        },
        {
         "name": "neuron_id",
         "rawType": "int64",
         "type": "integer"
        },
        {
         "name": "partner_type",
         "rawType": "object",
         "type": "string"
        }
       ],
       "ref": "4d232fbf-7ede-4735-8608-b2852150e265",
       "rows": [
        [
         "0",
         "720575940625363947",
         "T1"
        ],
        [
         "1",
         "720575940613354467",
         "Lawf2"
        ],
        [
         "2",
         "720575940630432382",
         "L5"
        ],
        [
         "3",
         "720575940627314521",
         "Tm21"
        ],
        [
         "4",
         "720575940616775218",
         "Dm3q"
        ]
       ],
       "shape": {
        "columns": 2,
        "rows": 5
       }
      },
      "text/html": [
       "<div>\n",
       "<style scoped>\n",
       "    .dataframe tbody tr th:only-of-type {\n",
       "        vertical-align: middle;\n",
       "    }\n",
       "\n",
       "    .dataframe tbody tr th {\n",
       "        vertical-align: top;\n",
       "    }\n",
       "\n",
       "    .dataframe thead th {\n",
       "        text-align: right;\n",
       "    }\n",
       "</style>\n",
       "<table border=\"1\" class=\"dataframe\">\n",
       "  <thead>\n",
       "    <tr style=\"text-align: right;\">\n",
       "      <th></th>\n",
       "      <th>neuron_id</th>\n",
       "      <th>partner_type</th>\n",
       "    </tr>\n",
       "  </thead>\n",
       "  <tbody>\n",
       "    <tr>\n",
       "      <th>0</th>\n",
       "      <td>720575940625363947</td>\n",
       "      <td>T1</td>\n",
       "    </tr>\n",
       "    <tr>\n",
       "      <th>1</th>\n",
       "      <td>720575940613354467</td>\n",
       "      <td>Lawf2</td>\n",
       "    </tr>\n",
       "    <tr>\n",
       "      <th>2</th>\n",
       "      <td>720575940630432382</td>\n",
       "      <td>L5</td>\n",
       "    </tr>\n",
       "    <tr>\n",
       "      <th>3</th>\n",
       "      <td>720575940627314521</td>\n",
       "      <td>Tm21</td>\n",
       "    </tr>\n",
       "    <tr>\n",
       "      <th>4</th>\n",
       "      <td>720575940616775218</td>\n",
       "      <td>Dm3q</td>\n",
       "    </tr>\n",
       "  </tbody>\n",
       "</table>\n",
       "</div>"
      ],
      "text/plain": [
       "            neuron_id partner_type\n",
       "0  720575940625363947           T1\n",
       "1  720575940613354467        Lawf2\n",
       "2  720575940630432382           L5\n",
       "3  720575940627314521         Tm21\n",
       "4  720575940616775218         Dm3q"
      ]
     },
     "execution_count": 9,
     "metadata": {},
     "output_type": "execute_result"
    }
   ],
   "source": [
    "# Construct long-format neuron → partner_type mapping\n",
    "\n",
    "# Pre neuron side: map pre_root_id to post_type\n",
    "pre_df = connections_clean[['pre_root_id', 'post_type']].rename(\n",
    "    columns={'pre_root_id': 'neuron_id', 'post_type': 'partner_type'}\n",
    ")\n",
    "\n",
    "# Post neuron side: map post_root_id to pre_type\n",
    "post_df = connections_clean[['post_root_id', 'pre_type']].rename(\n",
    "    columns={'post_root_id': 'neuron_id', 'pre_type': 'partner_type'}\n",
    ")\n",
    "\n",
    "# Combine them\n",
    "long_df = pd.concat([pre_df, post_df], ignore_index=True)\n",
    "\n",
    "print(\"Long-format rows:\", len(long_df))\n",
    "long_df.head()"
   ]
  },
  {
   "cell_type": "code",
   "execution_count": 10,
   "id": "724d1278",
   "metadata": {},
   "outputs": [
    {
     "name": "stdout",
     "output_type": "stream",
     "text": [
      "Result shape: (137540, 2)\n"
     ]
    },
    {
     "data": {
      "application/vnd.microsoft.datawrangler.viewer.v0+json": {
       "columns": [
        {
         "name": "index",
         "rawType": "int64",
         "type": "integer"
        },
        {
         "name": "neuron_id",
         "rawType": "int64",
         "type": "integer"
        },
        {
         "name": "unique_partner_type_count",
         "rawType": "int64",
         "type": "integer"
        }
       ],
       "ref": "702ad308-c725-4c3b-953f-2ea40379e7eb",
       "rows": [
        [
         "0",
         "720575940596125868",
         "46"
        ],
        [
         "1",
         "720575940597856265",
         "165"
        ],
        [
         "2",
         "720575940597944841",
         "136"
        ],
        [
         "3",
         "720575940598267657",
         "148"
        ],
        [
         "4",
         "720575940599333574",
         "76"
        ]
       ],
       "shape": {
        "columns": 2,
        "rows": 5
       }
      },
      "text/html": [
       "<div>\n",
       "<style scoped>\n",
       "    .dataframe tbody tr th:only-of-type {\n",
       "        vertical-align: middle;\n",
       "    }\n",
       "\n",
       "    .dataframe tbody tr th {\n",
       "        vertical-align: top;\n",
       "    }\n",
       "\n",
       "    .dataframe thead th {\n",
       "        text-align: right;\n",
       "    }\n",
       "</style>\n",
       "<table border=\"1\" class=\"dataframe\">\n",
       "  <thead>\n",
       "    <tr style=\"text-align: right;\">\n",
       "      <th></th>\n",
       "      <th>neuron_id</th>\n",
       "      <th>unique_partner_type_count</th>\n",
       "    </tr>\n",
       "  </thead>\n",
       "  <tbody>\n",
       "    <tr>\n",
       "      <th>0</th>\n",
       "      <td>720575940596125868</td>\n",
       "      <td>46</td>\n",
       "    </tr>\n",
       "    <tr>\n",
       "      <th>1</th>\n",
       "      <td>720575940597856265</td>\n",
       "      <td>165</td>\n",
       "    </tr>\n",
       "    <tr>\n",
       "      <th>2</th>\n",
       "      <td>720575940597944841</td>\n",
       "      <td>136</td>\n",
       "    </tr>\n",
       "    <tr>\n",
       "      <th>3</th>\n",
       "      <td>720575940598267657</td>\n",
       "      <td>148</td>\n",
       "    </tr>\n",
       "    <tr>\n",
       "      <th>4</th>\n",
       "      <td>720575940599333574</td>\n",
       "      <td>76</td>\n",
       "    </tr>\n",
       "  </tbody>\n",
       "</table>\n",
       "</div>"
      ],
      "text/plain": [
       "            neuron_id  unique_partner_type_count\n",
       "0  720575940596125868                         46\n",
       "1  720575940597856265                        165\n",
       "2  720575940597944841                        136\n",
       "3  720575940598267657                        148\n",
       "4  720575940599333574                         76"
      ]
     },
     "execution_count": 10,
     "metadata": {},
     "output_type": "execute_result"
    }
   ],
   "source": [
    "# Count unique partner types per neuron\n",
    "partner_type_counts = (\n",
    "    long_df\n",
    "    .dropna(subset=['partner_type'])                # just in case\n",
    "    .groupby('neuron_id')['partner_type']\n",
    "    .nunique()\n",
    "    .reset_index(name='unique_partner_type_count')\n",
    ")\n",
    "\n",
    "print(\"Result shape:\", partner_type_counts.shape)\n",
    "partner_type_counts.head()"
   ]
  },
  {
   "cell_type": "code",
   "execution_count": 11,
   "id": "4122f149",
   "metadata": {},
   "outputs": [
    {
     "data": {
      "application/vnd.microsoft.datawrangler.viewer.v0+json": {
       "columns": [
        {
         "name": "index",
         "rawType": "int64",
         "type": "integer"
        },
        {
         "name": "neuron_id",
         "rawType": "int64",
         "type": "integer"
        },
        {
         "name": "unique_partner_type_count",
         "rawType": "int64",
         "type": "integer"
        },
        {
         "name": "neuron_type",
         "rawType": "object",
         "type": "string"
        }
       ],
       "ref": "e906b91c-f072-4efd-a722-8cc779d50c9a",
       "rows": [
        [
         "0",
         "720575940596125868",
         "46",
         "T5c"
        ],
        [
         "1",
         "720575940597856265",
         "165",
         "Tm16"
        ],
        [
         "2",
         "720575940597944841",
         "136",
         "Tm7"
        ],
        [
         "3",
         "720575940598267657",
         "148",
         "TmY15"
        ],
        [
         "4",
         "720575940599333574",
         "76",
         "Tm1"
        ]
       ],
       "shape": {
        "columns": 3,
        "rows": 5
       }
      },
      "text/html": [
       "<div>\n",
       "<style scoped>\n",
       "    .dataframe tbody tr th:only-of-type {\n",
       "        vertical-align: middle;\n",
       "    }\n",
       "\n",
       "    .dataframe tbody tr th {\n",
       "        vertical-align: top;\n",
       "    }\n",
       "\n",
       "    .dataframe thead th {\n",
       "        text-align: right;\n",
       "    }\n",
       "</style>\n",
       "<table border=\"1\" class=\"dataframe\">\n",
       "  <thead>\n",
       "    <tr style=\"text-align: right;\">\n",
       "      <th></th>\n",
       "      <th>neuron_id</th>\n",
       "      <th>unique_partner_type_count</th>\n",
       "      <th>neuron_type</th>\n",
       "    </tr>\n",
       "  </thead>\n",
       "  <tbody>\n",
       "    <tr>\n",
       "      <th>0</th>\n",
       "      <td>720575940596125868</td>\n",
       "      <td>46</td>\n",
       "      <td>T5c</td>\n",
       "    </tr>\n",
       "    <tr>\n",
       "      <th>1</th>\n",
       "      <td>720575940597856265</td>\n",
       "      <td>165</td>\n",
       "      <td>Tm16</td>\n",
       "    </tr>\n",
       "    <tr>\n",
       "      <th>2</th>\n",
       "      <td>720575940597944841</td>\n",
       "      <td>136</td>\n",
       "      <td>Tm7</td>\n",
       "    </tr>\n",
       "    <tr>\n",
       "      <th>3</th>\n",
       "      <td>720575940598267657</td>\n",
       "      <td>148</td>\n",
       "      <td>TmY15</td>\n",
       "    </tr>\n",
       "    <tr>\n",
       "      <th>4</th>\n",
       "      <td>720575940599333574</td>\n",
       "      <td>76</td>\n",
       "      <td>Tm1</td>\n",
       "    </tr>\n",
       "  </tbody>\n",
       "</table>\n",
       "</div>"
      ],
      "text/plain": [
       "            neuron_id  unique_partner_type_count neuron_type\n",
       "0  720575940596125868                         46         T5c\n",
       "1  720575940597856265                        165        Tm16\n",
       "2  720575940597944841                        136         Tm7\n",
       "3  720575940598267657                        148       TmY15\n",
       "4  720575940599333574                         76         Tm1"
      ]
     },
     "execution_count": 11,
     "metadata": {},
     "output_type": "execute_result"
    }
   ],
   "source": [
    "# Add each neuron's own type for context\n",
    "results = partner_type_counts.merge(\n",
    "    cell_types[['root_id', 'primary_type']], \n",
    "    left_on='neuron_id', right_on='root_id', how='left'\n",
    ").drop(columns=['root_id'])\n",
    "\n",
    "results = results.rename(columns={'primary_type': 'neuron_type'})\n",
    "\n",
    "results.head()"
   ]
  },
  {
   "cell_type": "code",
   "execution_count": 12,
   "id": "cd07c86d",
   "metadata": {},
   "outputs": [],
   "source": [
    "# Define neurons of interest\n",
    "neurons_of_interest = {\n",
    "    \"OviEN\": {\n",
    "        720575940612490958: \"oviEN Left\",\n",
    "        720575940635515744: \"oviEN Right\",\n",
    "    },\n",
    "    \"oviIN\": {\n",
    "        720575940628360506: \"oviIN Left\",\n",
    "        720575940625741287: \"oviIN Right\",\n",
    "    },\n",
    "    \"PAL02\": {\n",
    "        720575940628717585: \"PAL02 Left\",\n",
    "        720575940620716897: \"PAL02 Right\",\n",
    "    },\n",
    "    \"PAL04\": {\n",
    "        720575940632369439: \"PAL04 Left\",\n",
    "        720575940636990064: \"PAL04 Right\",\n",
    "    },\n",
    "    \"Earmuff\": {\n",
    "        720575940629861163: \"Earmuff Left 1\",\n",
    "        720575940611411057: \"Earmuff Right 1\",\n",
    "        720575940635642725: \"Earmuff Left 2\",\n",
    "        720575940629013199: \"Earmuff Right 2\",\n",
    "    },\n",
    "    \"Tophat\": {\n",
    "        720575940660281217: \"Tophat Left 1\",\n",
    "        720575940620441024: \"Tophat Right 1\",\n",
    "        720575940622541005: \"Tophat Left 2\",\n",
    "        720575940638865011: \"Tophat Right 2\",\n",
    "    }\n",
    "}"
   ]
  },
  {
   "cell_type": "code",
   "execution_count": 13,
   "id": "9a02a1b0",
   "metadata": {},
   "outputs": [
    {
     "data": {
      "image/png": "[encoded data removed]",
      "text/plain": [
       "<Figure size 1200x700 with 1 Axes>"
      ]
     },
     "metadata": {},
     "output_type": "display_data"
    }
   ],
   "source": [
    "import matplotlib as mpl\n",
    "import matplotlib.pyplot as plt\n",
    "import numpy as np\n",
    "\n",
    "# Compute mean\n",
    "mean_val = results['unique_partner_type_count'].mean()\n",
    "\n",
    "# Plot histogram\n",
    "plt.figure(figsize=(12,7))\n",
    "plt.hist(results['unique_partner_type_count'], bins=100, color='steelblue', edgecolor='black')\n",
    "\n",
    "# Add mean line\n",
    "plt.axvline(mean_val, color='red', linestyle='--')\n",
    "plt.text(mean_val+5, plt.ylim()[1]*0.9, 'mean', color='red')\n",
    "\n",
    "# Flatten neurons_of_interest into a list of (val, label)\n",
    "points = []\n",
    "for group, mapping in neurons_of_interest.items():\n",
    "    for nid, label in mapping.items():\n",
    "        match = results.query(\"neuron_id == @nid\")\n",
    "        if not match.empty:\n",
    "            val = match['unique_partner_type_count'].iloc[0]\n",
    "            points.append((val, label))\n",
    "\n",
    "# Sort by x-axis position (val)\n",
    "points.sort(key=lambda x: x[0])\n",
    "\n",
    "# Pick a colormap for distinct colors\n",
    "cmap = mpl.colormaps['tab20']\n",
    "\n",
    "# Plot each neuron as a colored vertical line\n",
    "for i, (val, label) in enumerate(points):\n",
    "    color = cmap(i)\n",
    "    plt.axvline(val, color=color, linestyle='-', ymax=0.1, label=label)\n",
    "\n",
    "# Add legend outside plot\n",
    "plt.legend(loc='center left', bbox_to_anchor=(1, 0.5), fontsize=9)\n",
    "\n",
    "plt.xlabel(\"Number of unique partner cell types\")\n",
    "plt.ylabel(\"Number of neurons\")\n",
    "plt.title(\"Distribution of partner-type diversity per neuron\")\n",
    "plt.tight_layout()  # leave space on right for legend\n",
    "plt.savefig(\"partner_cell_distrib.png\")\n"
   ]
  }
 ],
 "metadata": {
  "kernelspec": {
   "display_name": "analysis3.13",
   "language": "python",
   "name": "python3"
  },
  "language_info": {
   "codemirror_mode": {
    "name": "ipython",
    "version": 3
   },
   "file_extension": ".py",
   "mimetype": "text/x-python",
   "name": "python",
   "nbconvert_exporter": "python",
   "pygments_lexer": "ipython3",
   "version": "3.13.7"
  }
 },
 "nbformat": 4,
 "nbformat_minor": 5
}
