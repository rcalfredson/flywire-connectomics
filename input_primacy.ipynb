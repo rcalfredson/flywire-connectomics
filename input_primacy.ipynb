{
 "cells": [
  {
   "cell_type": "code",
   "execution_count": 1,
   "id": "eca2639e",
   "metadata": {},
   "outputs": [],
   "source": [
    "# Imports and setup\n",
    "import pandas as pd\n",
    "import matplotlib.pyplot as plt\n",
    "from tqdm import tqdm"
   ]
  },
  {
   "cell_type": "code",
   "execution_count": 2,
   "id": "a533d625",
   "metadata": {},
   "outputs": [
    {
     "name": "stdout",
     "output_type": "stream",
     "text": [
      "           pre_root_id        post_root_id neuropil  syn_count nt_type\n",
      "0   720575940625363947  720575940623224444     ME_L         12    GABA\n",
      "2   720575940630432382  720575940618518557     ME_L         67     ACH\n",
      "3   720575940627314521  720575940626337738     ME_L         10    GABA\n",
      "7   720575940620280405  720575940620204726     ME_L         15     ACH\n",
      "14  720575940608359298  720575940613493733     ME_L          5     ACH\n",
      "Remaining connections: 6857111\n"
     ]
    }
   ],
   "source": [
    "# Load data\n",
    "connections = pd.read_csv(\"data/connections_princeton_no_threshold.csv.gz\")\n",
    "cell_types = pd.read_csv(\"data/consolidated_cell_types.csv.gz\")\n",
    "\n",
    "threshold = 3\n",
    "\n",
    "# Apply minimum synapse filter (threshold = 3)\n",
    "connections = connections[connections['syn_count'] >= threshold]\n",
    "\n",
    "print(connections.head())\n",
    "print(f\"Remaining connections: {len(connections)}\")"
   ]
  },
  {
   "cell_type": "code",
   "execution_count": 3,
   "id": "82e4ddbe",
   "metadata": {},
   "outputs": [],
   "source": [
    "# Plotting functions\n",
    "\n",
    "def plot_primacy_distribution(df, target_label, max_rank=5):\n",
    "    \"\"\"\n",
    "    Stacked bar plot of primacy distribution (strong vs weak inputs).\n",
    "    \"\"\"\n",
    "    counts = (\n",
    "        df.groupby(['rank', 'strength'])\n",
    "          .size()\n",
    "          .unstack(fill_value=0)\n",
    "          .reindex(range(1, max_rank+1), fill_value=0)\n",
    "    )\n",
    "\n",
    "    counts.plot(kind='bar', stacked=True, color={'strong':'darkgreen', 'weak':'lightgreen'})\n",
    "    plt.xlabel(\"Primacy rank of target neuron\")\n",
    "    plt.ylabel(\"Number of presynaptic cell types\")\n",
    "    plt.title(f\"Input primacy distribution for {target_label}\")\n",
    "    plt.xticks(rotation=0)\n",
    "    plt.tight_layout()\n",
    "    plt.show()"
   ]
  },
  {
   "cell_type": "code",
   "execution_count": 4,
   "id": "f4f9711f",
   "metadata": {},
   "outputs": [],
   "source": [
    "# Utility functions\n",
    "def get_inputs(connections, target_id):\n",
    "    \"\"\"\n",
    "    Return all presynaptic neurons (and their synapse counts) that connect to the target neuron.\n",
    "    \"\"\"\n",
    "    return connections[connections['post_root_id'] == target_id][['pre_root_id', 'syn_count']]\n",
    "\n",
    "def get_outputs(connections, target_id):\n",
    "    \"\"\"\n",
    "    Return all outputs (postsynaptic partners and synapse counts) of a given neuron.\n",
    "    \"\"\"\n",
    "    return connections[connections['pre_root_id'] == target_id][['post_root_id', 'syn_count']]\n",
    "\n",
    "def compute_primacy_by_type(\n",
    "    connections,\n",
    "    target_id,\n",
    "    cell_types,\n",
    "    strong_threshold=100,\n",
    "    min_syn_count=3,\n",
    "    verbose=False,\n",
    "    show_progress=True\n",
    "):\n",
    "    \"\"\"\n",
    "    For a target neuron, compute primacy ranking across its input CELL TYPES.\n",
    "\n",
    "    Steps:\n",
    "    - Collapse inputs to the target by presynaptic cell type.\n",
    "    - For each input type, fetch all outputs (by type), collapse by type, rank the target.\n",
    "    - Return DataFrame of input types with weight_to_target, rank, and strength.\n",
    "\n",
    "    Returns: DataFrame with columns\n",
    "      input_type, weight_to_target, rank, strength\n",
    "    \"\"\"\n",
    "    # filter at the very beginning\n",
    "    conn_filt = connections[connections['syn_count'] >= min_syn_count]\n",
    "\n",
    "    # map neuron IDs → primary_type\n",
    "    id_to_type = dict(zip(cell_types['root_id'], cell_types['primary_type']))\n",
    "\n",
    "    # --- Step 1: collapse inputs by type ---\n",
    "    inputs = (\n",
    "        conn_filt[conn_filt['post_root_id'] == target_id]\n",
    "        .assign(type_pre=lambda df: df['pre_root_id'].map(id_to_type))\n",
    "        .dropna(subset=['type_pre'])\n",
    "        .groupby('type_pre', as_index=False)['syn_count'].sum()\n",
    "        .rename(columns={'syn_count': 'weight_to_target'})\n",
    "        .sort_values('weight_to_target', ascending=False, ignore_index=True)\n",
    "    )\n",
    "\n",
    "    primacy_records = []\n",
    "\n",
    "    # --- Step 2: for each input TYPE, compute rank of target among its outputs ---\n",
    "    iterator = inputs.iterrows()\n",
    "    if show_progress:\n",
    "        iterator = tqdm(inputs.iterrows(), total=len(inputs), desc=f\"Analyzing {len(inputs)} input types\")\n",
    "    for _, row in iterator:\n",
    "        in_type = row['type_pre']\n",
    "\n",
    "        # all neurons of this type\n",
    "        members = cell_types.loc[cell_types['primary_type'] == in_type, 'root_id']\n",
    "\n",
    "        outputs = (\n",
    "            conn_filt[conn_filt['pre_root_id'].isin(members)]\n",
    "            .assign(type_post=lambda df: df['post_root_id'].map(id_to_type))\n",
    "            .dropna(subset=['type_post'])\n",
    "            .groupby('type_post', as_index=False)['syn_count'].sum()\n",
    "            .sort_values('syn_count', ascending=False, ignore_index=True)\n",
    "        )\n",
    "\n",
    "        # find target type (e.g. \"oviIN\") in outputs\n",
    "        target_type = cell_types.loc[cell_types['root_id'] == target_id, 'primary_type'].values[0]\n",
    "        mask = outputs['type_post'] == target_type\n",
    "\n",
    "        if mask.any():\n",
    "            pos = outputs.index[mask][0]\n",
    "            rank = pos + 1\n",
    "            out_weight = outputs.loc[mask, 'syn_count'].values[0]\n",
    "\n",
    "            primacy_records.append({\n",
    "                'input_type': in_type,\n",
    "                'weight_to_target_type': out_weight,\n",
    "                'rank': rank,\n",
    "                'strength': 'strong' if out_weight >= strong_threshold else 'weak'\n",
    "            })\n",
    "        elif verbose:\n",
    "            print(f\"Input type {in_type} → target type {target_type}: not found\")\n",
    "\n",
    "    return pd.DataFrame(primacy_records)\n"
   ]
  },
  {
   "cell_type": "code",
   "execution_count": 5,
   "id": "9f191abc",
   "metadata": {},
   "outputs": [
    {
     "name": "stderr",
     "output_type": "stream",
     "text": [
      "Analyzing 229 input types: 100%|██████████| 229/229 [00:27<00:00,  8.25it/s]\n"
     ]
    },
    {
     "data": {
      "image/png": "[encoded data removed]",
      "text/plain": [
       "<Figure size 640x480 with 1 Axes>"
      ]
     },
     "metadata": {},
     "output_type": "display_data"
    }
   ],
   "source": [
    "target_id = 720575940633705636\n",
    "target_label = \"SMP544\"\n",
    "\n",
    "primacy_df = compute_primacy_by_type(\n",
    "    connections,\n",
    "    target_id,\n",
    "    cell_types=cell_types,\n",
    "    strong_threshold=100,\n",
    "    min_syn_count=threshold\n",
    ")\n",
    "\n",
    "plot_primacy_distribution(primacy_df, target_label, max_rank=10)"
   ]
  }
 ],
 "metadata": {
  "kernelspec": {
   "display_name": "analysis3.13",
   "language": "python",
   "name": "python3"
  },
  "language_info": {
   "codemirror_mode": {
    "name": "ipython",
    "version": 3
   },
   "file_extension": ".py",
   "mimetype": "text/x-python",
   "name": "python",
   "nbconvert_exporter": "python",
   "pygments_lexer": "ipython3",
   "version": "3.13.7"
  }
 },
 "nbformat": 4,
 "nbformat_minor": 5
}
